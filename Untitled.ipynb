{
 "cells": [
  {
   "cell_type": "code",
   "execution_count": 3,
   "metadata": {
    "collapsed": true
   },
   "outputs": [],
   "source": [
    "from qutip import *\n",
    "from scipy import *\n",
    "import numpy as np\n",
    "def qubit_integrate(w, theta, gamma1, gamma2, psi0, tlist):\n",
    "    # operators and the hamiltonian\n",
    "    sx = sigmax(); sy = sigmay(); sz = sigmaz(); sm = sigmam()\n",
    "    H = w * (cos(theta) * sz + sin(theta) * sx)\n",
    "    # collapse operators\n",
    "    c_op_list = []\n",
    "    n_th = 0.5 # temperature\n",
    "    rate = gamma1 * (n_th + 1)\n",
    "    if rate > 0.0: c_op_list.append(sqrt(rate) * sm)\n",
    "    rate = gamma1 * n_th\n",
    "    if rate > 0.0: c_op_list.append(sqrt(rate) * sm.dag())\n",
    "    rate = gamma2\n",
    "    if rate > 0.0: c_op_list.append(sqrt(rate) * sz)\n",
    "\n",
    "\n",
    "    # evolve and calculate expectation values\n",
    "    output = mesolve(H, psi0, tlist, c_op_list, [sx, sy, sz])  \n",
    "    return output.expect[0], output.expect[1], output.expect[2]\n",
    "    \n",
    "## calculate the dynamics\n",
    "w     = 1.0 * 2 * pi   # qubit angular frequency\n",
    "theta = 0.2 * pi       # qubit angle from sigma_z axis (toward sigma_x axis)\n",
    "gamma1 = 0.5      # qubit relaxation rate\n",
    "gamma2 = 0.2      # qubit dephasing rate\n",
    "# initial state\n",
    "a = 1.0\n",
    "psi0 = (a* basis(2,0) + (1-a)*basis(2,1))/(sqrt(a**2 + (1-a)**2))\n",
    "tlist = linspace(0,4,250)\n",
    "#expectation values for ploting\n",
    "sx, sy, sz = qubit_integrate(w, theta, gamma1, gamma2, psi0, tlist)\n"
   ]
  }
 ],
 "metadata": {
  "kernelspec": {
   "display_name": "Python 2",
   "language": "python",
   "name": "python2"
  },
  "language_info": {
   "codemirror_mode": {
    "name": "ipython",
    "version": 2
   },
   "file_extension": ".py",
   "mimetype": "text/x-python",
   "name": "python",
   "nbconvert_exporter": "python",
   "pygments_lexer": "ipython2",
   "version": "2.7.13"
  }
 },
 "nbformat": 4,
 "nbformat_minor": 2
}
